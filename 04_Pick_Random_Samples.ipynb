{
  "nbformat": 4,
  "nbformat_minor": 0,
  "metadata": {
    "colab": {
      "name": "04_Pick Random Samples.ipynb",
      "provenance": [],
      "collapsed_sections": [],
      "authorship_tag": "ABX9TyN8pe0LJnikrb8oQAq6MSbZ",
      "include_colab_link": true
    },
    "kernelspec": {
      "name": "python3",
      "display_name": "Python 3"
    }
  },
  "cells": [
    {
      "cell_type": "markdown",
      "metadata": {
        "id": "view-in-github",
        "colab_type": "text"
      },
      "source": [
        "<a href=\"https://colab.research.google.com/github/Seyed-Ali-Ahmadi/Building-Damage-Assessment/blob/master/04_Pick_Random_Samples.ipynb\" target=\"_parent\"><img src=\"https://colab.research.google.com/assets/colab-badge.svg\" alt=\"Open In Colab\"/></a>"
      ]
    },
    {
      "cell_type": "code",
      "metadata": {
        "id": "JgnQQwmB_fPH"
      },
      "source": [
        "import numpy as np\n",
        "import matplotlib.pyplot as plt"
      ],
      "execution_count": null,
      "outputs": []
    },
    {
      "cell_type": "code",
      "metadata": {
        "id": "pIoB9pGz_og-",
        "outputId": "3d22774c-6471-4c00-e63c-5d38e7a69053",
        "colab": {
          "base_uri": "https://localhost:8080/",
          "height": 249
        }
      },
      "source": [
        "H = 39\n",
        "W = 67\n",
        "n_samples = int(0.5*(H*W)/10)\n",
        "# Uniformly distributed\n",
        "rows = np.random.randint(0, H, n_samples)\n",
        "cols = np.random.randint(0, W, n_samples)\n",
        "\n",
        "print(n_samples)\n",
        "\n",
        "plt.figure(figsize=(10, 5))\n",
        "plt.subplot(121), plt.plot(cols, rows, '.k'), plt.gca().invert_yaxis(), plt.gca().set_aspect('equal', 'box')\n",
        "\n",
        "img = np.zeros((H, W))\n",
        "for i in range(n_samples):\n",
        "  img[rows[i], cols[i]] = 1\n",
        "\n",
        "plt.subplot(122), plt.imshow(img, cmap='gray')"
      ],
      "execution_count": null,
      "outputs": [
        {
          "output_type": "stream",
          "text": [
            "130\n"
          ],
          "name": "stdout"
        },
        {
          "output_type": "execute_result",
          "data": {
            "text/plain": [
              "(<matplotlib.axes._subplots.AxesSubplot at 0x7f7bf0b9c320>,\n",
              " <matplotlib.image.AxesImage at 0x7f7bf0a57e48>)"
            ]
          },
          "metadata": {
            "tags": []
          },
          "execution_count": 121
        },
        {
          "output_type": "display_data",
          "data": {
            "image/png": "[encoded data removed]",
            "text/plain": [
              "<Figure size 720x360 with 2 Axes>"
            ]
          },
          "metadata": {
            "tags": [],
            "needs_background": "light"
          }
        }
      ]
    },
    {
      "cell_type": "code",
      "metadata": {
        "id": "bT0uMtFUCDBo",
        "outputId": "37952a69-44fc-41c5-ad54-bbe983880e3b",
        "colab": {
          "base_uri": "https://localhost:8080/",
          "height": 282
        }
      },
      "source": [
        "# Normally distributed\n",
        "rows = np.random.normal(H/2, 3, n_samples)#.astype(int)\n",
        "cols = np.random.normal(W/2, 3, n_samples)#.astype(int)\n",
        "plt.plot(cols, rows, 'ko')"
      ],
      "execution_count": null,
      "outputs": [
        {
          "output_type": "execute_result",
          "data": {
            "text/plain": [
              "[<matplotlib.lines.Line2D at 0x7f7bf9a708d0>]"
            ]
          },
          "metadata": {
            "tags": []
          },
          "execution_count": 82
        },
        {
          "output_type": "display_data",
          "data": {
            "image/png": "[encoded data removed]",
            "text/plain": [
              "<Figure size 432x288 with 1 Axes>"
            ]
          },
          "metadata": {
            "tags": [],
            "needs_background": "light"
          }
        }
      ]
    }
  ]
}