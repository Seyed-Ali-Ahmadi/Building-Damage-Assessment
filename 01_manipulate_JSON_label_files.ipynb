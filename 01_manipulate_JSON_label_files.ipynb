{
  "nbformat": 4,
  "nbformat_minor": 0,
  "metadata": {
    "colab": {
      "name": "01_manipulate JSON label files.ipynb",
      "provenance": [],
      "collapsed_sections": [],
      "toc_visible": true,
      "mount_file_id": "1jV4cZowukS3EpWdXuwpMtsIArV1nLGXB",
      "authorship_tag": "ABX9TyMJzlq53AYrzQnZtvFs0RjP",
      "include_colab_link": true
    },
    "kernelspec": {
      "name": "python3",
      "display_name": "Python 3"
    }
  },
  "cells": [
    {
      "cell_type": "markdown",
      "metadata": {
        "id": "view-in-github",
        "colab_type": "text"
      },
      "source": [
        "<a href=\"https://colab.research.google.com/github/Seyed-Ali-Ahmadi/Building-Damage-Assessment/blob/master/01_manipulate_JSON_label_files.ipynb\" target=\"_parent\"><img src=\"https://colab.research.google.com/assets/colab-badge.svg\" alt=\"Open In Colab\"/></a>"
      ]
    },
    {
      "cell_type": "markdown",
      "metadata": {
        "id": "sMYCp5dUKYmH",
        "colab_type": "text"
      },
      "source": [
        "# Section 1: Manipulation\n",
        "\n",
        "In this section I will try to create building masks for a single image."
      ]
    },
    {
      "cell_type": "code",
      "metadata": {
        "id": "rQzHhJEp7DNo",
        "colab_type": "code",
        "colab": {}
      },
      "source": [
        "import json\n",
        "import re\n",
        "from skimage.draw import polygon\n",
        "import matplotlib.pyplot as plt\n",
        "import numpy as np"
      ],
      "execution_count": null,
      "outputs": []
    },
    {
      "cell_type": "code",
      "metadata": {
        "id": "JmGD1Dnq800R",
        "colab_type": "code",
        "colab": {}
      },
      "source": [
        "path = '/content/drive/My Drive/subset_1/guatemala-volcano_00000000_post_disaster.json'\n",
        "# METHOD 1\n",
        "with open(path) as f:\n",
        "  data = json.load(f)\n",
        "\n",
        "# METHOD 2\n",
        "# Alternative solution to read the JSON file:\n",
        "# Opening JSON file \n",
        "f = open(path,) \n",
        "# returns JSON object as  \n",
        "# a dictionary \n",
        "data = json.load(f) "
      ],
      "execution_count": null,
      "outputs": []
    },
    {
      "cell_type": "code",
      "metadata": {
        "id": "BjMOWaGn-jxj",
        "colab_type": "code",
        "colab": {
          "base_uri": "https://localhost:8080/",
          "height": 207
        },
        "outputId": "09a417e4-0ec6-44a1-9d40-df57d7d33d30"
      },
      "source": [
        "print(type(data))\n",
        "print('---------------------')\n",
        "print(data.keys())\n",
        "print('---------------------')\n",
        "for key in data.keys():\n",
        "  print('The key whose keys are being displayed is \"' + key + '\"')\n",
        "  print(data[key].keys())\n",
        "  print('............')"
      ],
      "execution_count": null,
      "outputs": [
        {
          "output_type": "stream",
          "text": [
            "<class 'dict'>\n",
            "---------------------\n",
            "dict_keys(['features', 'metadata'])\n",
            "---------------------\n",
            "The key whose keys are being displayed is \"features\"\n",
            "dict_keys(['lng_lat', 'xy'])\n",
            "............\n",
            "The key whose keys are being displayed is \"metadata\"\n",
            "dict_keys(['sensor', 'provider_asset_type', 'gsd', 'capture_date', 'off_nadir_angle', 'pan_resolution', 'sun_azimuth', 'sun_elevation', 'target_azimuth', 'disaster', 'disaster_type', 'catalog_id', 'original_width', 'original_height', 'width', 'height', 'id', 'img_name'])\n",
            "............\n"
          ],
          "name": "stdout"
        }
      ]
    },
    {
      "cell_type": "code",
      "metadata": {
        "id": "LJ8CMyzg9-5W",
        "colab_type": "code",
        "colab": {
          "base_uri": "https://localhost:8080/",
          "height": 34
        },
        "outputId": "8e06f9af-37aa-4a3c-c3e5-91c953c296e7"
      },
      "source": [
        "print('There are << ' + str(len(data['features']['xy'])) + ' >> buildings in this image.')"
      ],
      "execution_count": null,
      "outputs": [
        {
          "output_type": "stream",
          "text": [
            "There are << 10 >> buildings in this image.\n"
          ],
          "name": "stdout"
        }
      ]
    },
    {
      "cell_type": "code",
      "metadata": {
        "id": "FG4s5CT6BYCO",
        "colab_type": "code",
        "colab": {
          "base_uri": "https://localhost:8080/",
          "height": 187
        },
        "outputId": "471fea87-1f3d-45b2-fdbd-7a160a42d5d5"
      },
      "source": [
        "building_mask = np.zeros((1024, 1024))\n",
        "\n",
        "for building in data['features']['xy']:\n",
        "  \n",
        "  vertices = building['wkt']\n",
        "  vertices = vertices.partition('POLYGON ((')[2].partition('))')[0].split(', ')\n",
        "  n_vertices = len(vertices)\n",
        "\n",
        "  print('This is a < ' + \n",
        "        building['properties']['feature_type'] + \n",
        "        ' > of type << ' + \n",
        "        building['properties']['subtype'] + ' >> with ' + \n",
        "        str(n_vertices) + ' vertices. ')\n",
        "\n",
        "  rows = []\n",
        "  cols = []\n",
        "  for vertex in vertices:\n",
        "    cols.append(float(vertex.split(' ')[0]))\n",
        "    rows.append(float(vertex.split(' ')[1]))\n",
        "\n",
        "  rr, cc = polygon(rows, cols, (1024, 1024))\n",
        "  \n",
        "  building_mask[rr, cc] = 1"
      ],
      "execution_count": null,
      "outputs": [
        {
          "output_type": "stream",
          "text": [
            "This is a < building > of type << no-damage >> with 9 vertices. \n",
            "This is a < building > of type << no-damage >> with 15 vertices. \n",
            "This is a < building > of type << no-damage >> with 9 vertices. \n",
            "This is a < building > of type << no-damage >> with 6 vertices. \n",
            "This is a < building > of type << no-damage >> with 10 vertices. \n",
            "This is a < building > of type << no-damage >> with 7 vertices. \n",
            "This is a < building > of type << no-damage >> with 6 vertices. \n",
            "This is a < building > of type << no-damage >> with 5 vertices. \n",
            "This is a < building > of type << no-damage >> with 4 vertices. \n",
            "This is a < building > of type << no-damage >> with 5 vertices. \n"
          ],
          "name": "stdout"
        }
      ]
    },
    {
      "cell_type": "code",
      "metadata": {
        "id": "mhFUC2QTJywn",
        "colab_type": "code",
        "colab": {
          "base_uri": "https://localhost:8080/",
          "height": 487
        },
        "outputId": "b7d5b848-d060-46a4-c4bb-b41e0141506f"
      },
      "source": [
        "plt.figure(figsize=(8, 8))\n",
        "plt.imshow(building_mask, cmap='gray')\n",
        "plt.show()"
      ],
      "execution_count": null,
      "outputs": [
        {
          "output_type": "display_data",
          "data": {
            "image/png": "[encoded data removed]",
            "text/plain": [
              "<Figure size 576x576 with 1 Axes>"
            ]
          },
          "metadata": {
            "tags": [],
            "needs_background": "light"
          }
        }
      ]
    },
    {
      "cell_type": "markdown",
      "metadata": {
        "id": "DUoJT6gHKopd",
        "colab_type": "text"
      },
      "source": [
        "# Section 2: Automation\n",
        "\n",
        "In this section I will try to make the above code more efficient such that it gets a directory as input and creates the mask images as outputs based on their GeoJSON label files.\n"
      ]
    },
    {
      "cell_type": "code",
      "metadata": {
        "id": "osiknKCdK56G",
        "colab_type": "code",
        "colab": {}
      },
      "source": [
        "import os\n",
        "import re\n",
        "import json\n",
        "import numpy as np\n",
        "import matplotlib.pyplot as plt\n",
        "from skimage.draw import polygon\n",
        "from skimage.io import imread\n",
        "\n",
        "\n",
        "rootDir = '/content/drive/My Drive/subset_labels/'\n",
        "jsonFiles = os.listdir(rootDir)\n",
        "\n",
        "imageDir = '/content/drive/My Drive/subset_images/'\n",
        "\n",
        "for jsonFile in jsonFiles:\n",
        "  f = open(rootDir + jsonFile,)\n",
        "  data = json.load(f)\n",
        "\n",
        "  # Create a new building mask.\n",
        "  building_mask = np.zeros((1024, 1024))\n",
        "  bounding_box = np.zeros((1024, 1024))\n",
        "\n",
        "  # Read the corresponding image of the same JSON file.\n",
        "  image = imread(imageDir + jsonFile[:-4] + 'png')\n",
        "\n",
        "  # Loop through buildings in each image.\n",
        "  for building in data['features']['xy']:\n",
        "    \n",
        "    # Extract x-y coordinate of each vertex from decoding the json pattern.\n",
        "    vertices = building['wkt'].partition('POLYGON ((')[2].partition('))')[0].split(', ')\n",
        "    n_vertices = len(vertices)\n",
        "\n",
        "    rows = []\n",
        "    cols = []\n",
        "    for vertex in vertices:\n",
        "      cols.append(float(vertex.split(' ')[0]))\n",
        "      rows.append(float(vertex.split(' ')[1]))\n",
        "\n",
        "    # Fill the location of each building.\n",
        "    rr, cc = polygon(rows, cols, (1024, 1024))\n",
        "    building_mask[rr, cc] = 1\n",
        "    # Fill the location of its bounding box for further use.\n",
        "    br, bc = polygon([min(rows), min(rows), max(rows), max(rows), min(rows)],\n",
        "                     [min(cols), max(cols), max(cols), min(cols), min(cols)],\n",
        "                     (1024, 1024))    \n",
        "    bounding_box[br, bc] = 1\n",
        "\n",
        "    mask_box = building_mask + bounding_box\n",
        "    building_crop = image[int(np.floor(min(rows))) - 10:\n",
        "                          int(np.ceil(max(rows))) + 10,\n",
        "                          int(np.floor(min(cols))) - 10:\n",
        "                          int(np.ceil(max(cols))) + 10, :]\n",
        "    mask_crop = mask_box[int(np.floor(min(rows))) - 10:\n",
        "                         int(np.ceil(max(rows))) + 10,\n",
        "                         int(np.floor(min(cols))) - 10:\n",
        "                         int(np.ceil(max(cols))) + 10]\n",
        "\n",
        "    plt.figure(figsize=(15, 12))\n",
        "    plt.subplot(121), plt.imshow(mask_crop)\n",
        "    plt.subplot(122), plt.imshow(building_crop)\n",
        "    plt.show()\n",
        "\n",
        "  \n",
        "  # plt.figure(figsize=(15, 12))\n",
        "  # plt.subplot(131), plt.imshow(mask_box, cmap='jet')\n",
        "  # plt.subplot(132), plt.imshow(mask_crop)\n",
        "  # plt.subplot(133), plt.imshow(building_crop)\n",
        "  # plt.show()"
      ],
      "execution_count": null,
      "outputs": []
    }
  ]
}